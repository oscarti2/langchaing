{
  "nbformat": 4,
  "nbformat_minor": 0,
  "metadata": {
    "colab": {
      "provenance": [],
      "include_colab_link": true
    },
    "kernelspec": {
      "name": "python3",
      "display_name": "Python 3"
    },
    "language_info": {
      "name": "python"
    }
  },
  "cells": [
    {
      "cell_type": "markdown",
      "metadata": {
        "id": "view-in-github",
        "colab_type": "text"
      },
      "source": [
        "<a href=\"https://colab.research.google.com/github/oscarti2/langchaing/blob/main/Copia_de_Agents_.ipynb\" target=\"_parent\"><img src=\"https://colab.research.google.com/assets/colab-badge.svg\" alt=\"Open In Colab\"/></a>"
      ]
    },
    {
      "cell_type": "markdown",
      "source": [
        "![picture](https://drive.google.com/uc?id=1t85VSkuEnCm-X8egDjib0GMTGZT0LM3c)\n",
        "\n",
        "#Agentes\n",
        "Preparado por Jonathan Vásquez para EvoAcademy"
      ],
      "metadata": {
        "id": "mz2i8LqOgE3n"
      }
    },
    {
      "cell_type": "markdown",
      "source": [
        "##Preparación\n",
        "Instalación e importación de librerías.<br>\n",
        "Configuración de API KEY como variable ambiente."
      ],
      "metadata": {
        "id": "cBClHu96gGXj"
      }
    },
    {
      "cell_type": "code",
      "execution_count": null,
      "metadata": {
        "id": "qpjlZxnTW6fU"
      },
      "outputs": [],
      "source": [
        "%pip install openai langchain wikipedia"
      ]
    },
    {
      "cell_type": "code",
      "source": [
        "import config\n",
        "import os\n",
        "\n",
        "os.environ['OPENAI_API_KEY'] = config.OPENAI_API_KEY"
      ],
      "metadata": {
        "id": "dBWFOU1BgKKB"
      },
      "execution_count": null,
      "outputs": []
    },
    {
      "cell_type": "code",
      "source": [
        "import langchain\n",
        "from langchain import Wikipedia\n",
        "from langchain.llms import OpenAI\n",
        "from langchain.agents import initialize_agent, Tool\n",
        "from langchain.agents import AgentType\n",
        "from langchain.agents.react.base import DocstoreExplorer"
      ],
      "metadata": {
        "id": "HZW_cFRbfgTO"
      },
      "execution_count": null,
      "outputs": []
    },
    {
      "cell_type": "markdown",
      "source": [
        "##1. Chain\n",
        "Veamos primero el caso de una llamada regular al modelo LLM. Aquí usaremos `text-davinci-003`, aunque en el paper usaron `text-davinci-002`."
      ],
      "metadata": {
        "id": "Gf8YL21h_DH9"
      }
    },
    {
      "cell_type": "code",
      "source": [
        "llm = OpenAI(temperature=0, model_name='text-davinci-003')\n"
      ],
      "metadata": {
        "id": "TGDWj4CJ_azg"
      },
      "execution_count": null,
      "outputs": []
    },
    {
      "cell_type": "code",
      "source": [
        "question = \"Who was the head coach of the Chile national football team when it won the Copa América for the first time?\"\n",
        "\n",
        "print(llm(question))"
      ],
      "metadata": {
        "colab": {
          "base_uri": "https://localhost:8080/"
        },
        "id": "DeAl_ztVS6dG",
        "outputId": "0714ecb0-4019-4011-d1f2-289718489866"
      },
      "execution_count": null,
      "outputs": [
        {
          "output_type": "stream",
          "name": "stdout",
          "text": [
            "\n",
            "\n",
            "The head coach of the Chile national football team when it won the Copa América for the first time was Jorge Sampaoli.\n"
          ]
        }
      ]
    },
    {
      "cell_type": "code",
      "source": [
        "question = \"How old was the head coach of the Chile national football team when it won the Copa América for the first time?\"\n",
        "print(llm(question))\n"
      ],
      "metadata": {
        "colab": {
          "base_uri": "https://localhost:8080/"
        },
        "id": "VhPhe7GpS9eJ",
        "outputId": "c305bb0f-bd01-446a-c70b-04e449e78d65"
      },
      "execution_count": null,
      "outputs": [
        {
          "output_type": "stream",
          "name": "stdout",
          "text": [
            "\n",
            "\n",
            "The head coach of the Chile national football team when it won the Copa América for the first time was Jorge Sampaoli, who was 48 years old at the time.\n"
          ]
        }
      ]
    },
    {
      "cell_type": "markdown",
      "source": [
        "Vemos que el segundo caso no es una respuesta correcta (la edad es 55). Este fenómeno es conocido como *hallucination*, y podría ser mitigado con ReAct al permitirle interactuar con el ambiente (información factual) y razonar antes de entregar una respuesta final."
      ],
      "metadata": {
        "id": "nHhL_OGTli6l"
      }
    },
    {
      "cell_type": "markdown",
      "source": [
        "##2. Agentes Basado en ReAct\n",
        "Usaremos el framework [ReAct](https://react-lm.github.io/) para generar nuestro agente. Para esto usaremos el `AgentType.REACT_DOCSTORE`, que es un tipo de agente de LangChain creado para interactuar con documentos.\n",
        "\n",
        "La interacción del agente con el documento será por medio de dos acciones:\n",
        "- Search: útil para cuando se necesite buscar información. Similar a buscar un tema en el buscador de wikipedia.\n",
        "- Lookup: útil para realizar búsquedas de un keyword en una documento. Similar a Cmnd+F (Alt+F) en el navegador.\n",
        "\n",
        "Por otro lado, los documentos con los que interactuará el agente serán los contenidos en Wikipedia. Para esto usaremos `DocstoreExplorer` y el wrapper `Wikipedia()` de la API de Wikipedia."
      ],
      "metadata": {
        "id": "lY9RZxUnDfcP"
      }
    },
    {
      "cell_type": "code",
      "source": [
        "# Wikipedia : Es un wrapper de la API de Wikipedia. Retorna el resumen de una página\n",
        "#            según los keywords de la query. Si no encuentra página, retorna una lista\n",
        "#            de páginas similares.\n",
        "#\n",
        "# DocstoreExplorer: Clase que permite asistir la exploración de un documento.\n",
        "#                   Tiene los métodos search y lookup.\n",
        "docstore = DocstoreExplorer(Wikipedia())\n",
        "\n",
        "# Creamos la lista de Tools que le entregaremos al agente.\n",
        "# Usaremos el método docstore.search para realizar las búsquedas de doucmentos.\n",
        "# y el método de docstore.lookup para buscar términos en un documento.\n",
        "tools = [\n",
        "    Tool(\n",
        "        name=\"Search\",\n",
        "        func=docstore.search,\n",
        "        description=\"useful for when you need to ask with search\",\n",
        "    ),\n",
        "    Tool(\n",
        "        name=\"Lookup\",\n",
        "        func=docstore.lookup,\n",
        "        description=\"useful for when you need to ask with lookup\",\n",
        "    )\n",
        "]\n",
        "\n",
        "# Inicializamos un ejecutor de agentes.\n",
        "# Le entregamos el agente, la lista de tools, el modelo LLM, y el agente.\n",
        "# Para rastrear las acciones, configuramos verbose=True.\n",
        "react = initialize_agent(agent=AgentType.REACT_DOCSTORE,\n",
        "                         tools=tools,\n",
        "                         llm=llm,\n",
        "                         verbose=True)\n"
      ],
      "metadata": {
        "id": "_AGASvnxfjVF"
      },
      "execution_count": null,
      "outputs": []
    },
    {
      "cell_type": "markdown",
      "source": [
        "Revisemos el `prompt template` del agente."
      ],
      "metadata": {
        "id": "4ZXSDGt4kloL"
      }
    },
    {
      "cell_type": "code",
      "source": [
        "react.agent.llm_chain.prompt.template"
      ],
      "metadata": {
        "colab": {
          "base_uri": "https://localhost:8080/",
          "height": 157
        },
        "id": "ImDC03NGf_oX",
        "outputId": "4d0796af-d4e4-4e4a-db0b-e45a17e8c140"
      },
      "execution_count": null,
      "outputs": [
        {
          "output_type": "execute_result",
          "data": {
            "text/plain": [
              "'\\n\\nQuestion: What is the elevation range for the area that the eastern sector of the Colorado orogeny extends into?\\nThought: I need to search Colorado orogeny, find the area that the eastern sector of the Colorado orogeny extends into, then find the elevation range of the area.\\nAction: Search[Colorado orogeny]\\nObservation: The Colorado orogeny was an episode of mountain building (an orogeny) in Colorado and surrounding areas.\\nThought: It does not mention the eastern sector. So I need to look up eastern sector.\\nAction: Lookup[eastern sector]\\nObservation: (Result 1 / 1) The eastern sector extends into the High Plains and is called the Central Plains orogeny.\\nThought: The eastern sector of Colorado orogeny extends into the High Plains. So I need to search High Plains and find its elevation range.\\nAction: Search[High Plains]\\nObservation: High Plains refers to one of two distinct land regions\\nThought: I need to instead search High Plains (United States).\\nAction: Search[High Plains (United States)]\\nObservation: The High Plains are a subregion of the Great Plains. From east to west, the High Plains rise in elevation from around 1,800 to 7,000 ft (550 to 2,130 m).[3]\\nThought: High Plains rise in elevation from around 1,800 to 7,000 ft, so the answer is 1,800 to 7,000 ft.\\nAction: Finish[1,800 to 7,000 ft]\\n\\nQuestion: Musician and satirist Allie Goertz wrote a song about the \"The Simpsons\" character Milhouse, who Matt Groening named after who?\\nThought: The question simplifies to \"The Simpsons\" character Milhouse is named after who. I only need to search Milhouse and find who it is named after.\\nAction: Search[Milhouse]\\nObservation: Milhouse Mussolini Van Houten is a recurring character in the Fox animated television series The Simpsons voiced by Pamela Hayden and created by Matt Groening.\\nThought: The paragraph does not tell who Milhouse is named after, maybe I can look up \"named after\".\\nAction: Lookup[named after]\\nObservation: (Result 1 / 1) Milhouse was named after U.S. president Richard Nixon, whose middle name was Milhous.\\nThought: Milhouse was named after U.S. president Richard Nixon, so the answer is Richard Nixon.\\nAction: Finish[Richard Nixon]\\n\\nQuestion: Which documentary is about Finnish rock groups, Adam Clayton Powell or The Saimaa Gesture?\\nThought: I need to search Adam Clayton Powell and The Saimaa Gesture, and find which documentary is about Finnish rock groups.\\nAction: Search[Adam Clayton Powell]\\nObservation: Could not find [Adam Clayton Powell]. Similar: [’Adam Clayton Powell III’, ’Seventh Avenue (Manhattan)’, ’Adam Clayton Powell Jr. State Office Building’, ’Isabel Washington Powell’, ’Adam Powell’, ’Adam Clayton Powell (film)’, ’Giancarlo Esposito’].\\nThought: To find the documentary, I can search Adam Clayton Powell (film).\\nAction: Search[Adam Clayton Powell (film)]\\nObservation: Adam Clayton Powell is a 1989 American documentary film directed by Richard Kilberg. The film is about the rise and fall of influential African-American politician Adam Clayton Powell Jr.[3][4] It was later aired as part of the PBS series The American Experience.\\nThought: Adam Clayton Powell (film) is a documentary about an African-American politician, not Finnish rock groups. So the documentary about Finnish rock groups must instead be The Saimaa Gesture.\\nAction: Finish[The Saimaa Gesture]\\n\\nQuestion: What profession does Nicholas Ray and Elia Kazan have in common?\\nThought: I need to search Nicholas Ray and Elia Kazan, find their professions, then find the profession they have in common.\\nAction: Search[Nicholas Ray]\\nObservation: Nicholas Ray (born Raymond Nicholas Kienzle Jr., August 7, 1911 - June 16, 1979) was an American film director, screenwriter, and actor best known for the 1955 film Rebel Without a Cause.\\nThought: Professions of Nicholas Ray are director, screenwriter, and actor. I need to search Elia Kazan next and find his professions.\\nAction: Search[Elia Kazan]\\nObservation: Elia Kazan was an American film and theatre director, producer, screenwriter and actor.\\nThought: Professions of Elia Kazan are director, producer, screenwriter, and actor. So profession Nicholas Ray and Elia Kazan have in common is director, screenwriter, and actor.\\nAction: Finish[director, screenwriter, actor]\\n\\nQuestion: Which magazine was started first Arthur’s Magazine or First for Women?\\nThought: I need to search Arthur’s Magazine and First for Women, and find which was started first.\\nAction: Search[Arthur’s Magazine]\\nObservation: Arthur’s Magazine (1844-1846) was an American literary periodical published in Philadelphia in the 19th century.\\nThought: Arthur’s Magazine was started in 1844. I need to search First for Women next.\\nAction: Search[First for Women]\\nObservation: First for Women is a woman’s magazine published by Bauer Media Group in the USA.[1] The magazine was started in 1989.\\nThought: First for Women was started in 1989. 1844 (Arthur’s Magazine) < 1989 (First for Women), so Arthur’s Magazine was started first.\\nAction: Finish[Arthur’s Magazine]\\n\\nQuestion: Were Pavel Urysohn and Leonid Levin known for the same type of work?\\nThought: I need to search Pavel Urysohn and Leonid Levin, find their types of work, then find if they are the same.\\nAction: Search[Pavel Urysohn]\\nObservation: Pavel Samuilovich Urysohn (February 3, 1898 - August 17, 1924) was a Soviet mathematician who is best known for his contributions in dimension theory.\\nThought: Pavel Urysohn is a mathematician. I need to search Leonid Levin next and find its type of work.\\nAction: Search[Leonid Levin]\\nObservation: Leonid Anatolievich Levin is a Soviet-American mathematician and computer scientist.\\nThought: Leonid Levin is a mathematician and computer scientist. So Pavel Urysohn and Leonid Levin have the same type of work.\\nAction: Finish[yes]\\n\\n\\nQuestion: {input}\\n{agent_scratchpad}'"
            ],
            "application/vnd.google.colaboratory.intrinsic+json": {
              "type": "string"
            }
          },
          "metadata": {},
          "execution_count": 35
        }
      ]
    },
    {
      "cell_type": "markdown",
      "source": [
        "```\n",
        "Question: What is the elevation range for the area that the eastern sector of the Colorado orogeny extends into?\n",
        "Thought: I need to search Colorado orogeny, find the area that the eastern sector of the Colorado orogeny extends into, then find the elevation range of the area.\n",
        "Action: Search[Colorado orogeny]\n",
        "Observation: The Colorado orogeny was an episode of mountain building (an orogeny) in Colorado and surrounding areas.\n",
        "Thought: It does not mention the eastern sector. So I need to look up eastern sector.\n",
        "Action: Lookup[eastern sector]\n",
        "Observation: (Result 1 / 1) The eastern sector extends into the High Plains and is called the Central Plains orogeny.\n",
        "Thought: The eastern sector of Colorado orogeny extends into the High Plains. So I need to search High Plains and find its elevation range.\n",
        "Action: Search[High Plains]\n",
        "Observation: High Plains refers to one of two distinct land regions\n",
        "Thought: I need to instead search High Plains (United States).\n",
        "Action: Search[High Plains (United States)]\n",
        "Observation: The High Plains are a subregion of the Great Plains. From east to west, the High Plains rise in elevation from around 1,800 to 7,000 ft (550 to 2,130 m).[3]\n",
        "Thought: High Plains rise in elevation from around 1,800 to 7,000 ft, so the answer is 1,800 to 7,000 ft.\n",
        "Action: Finish[1,800 to 7,000 ft]\n",
        "\n",
        "Question: Musician and satirist Allie Goertz wrote a song about the \"The Simpsons\" character Milhouse, who Matt Groening named after who?\n",
        "Thought: The question simplifies to \"The Simpsons\" character Milhouse is named after who. I only need to search Milhouse and find who it is named after.\n",
        "Action: Search[Milhouse]\n",
        "Observation: Milhouse Mussolini Van Houten is a recurring character in the Fox animated television series The Simpsons voiced by Pamela Hayden and created by Matt Groening.\n",
        "Thought: The paragraph does not tell who Milhouse is named after, maybe I can look up \"named after\".\n",
        "Action: Lookup[named after]\n",
        "Observation: (Result 1 / 1) Milhouse was named after U.S. president Richard Nixon, whose middle name was Milhous.\n",
        "Thought: Milhouse was named after U.S. president Richard Nixon, so the answer is Richard Nixon.\n",
        "Action: Finish[Richard Nixon]\n",
        "\n",
        "Question: Which documentary is about Finnish rock groups, Adam Clayton Powell or The Saimaa Gesture?\n",
        "Thought: I need to search Adam Clayton Powell and The Saimaa Gesture, and find which documentary is about Finnish rock groups.\n",
        "Action: Search[Adam Clayton Powell]\n",
        "Observation: Could not find [Adam Clayton Powell]. Similar: [’Adam Clayton Powell III’, ’Seventh Avenue (Manhattan)’, ’Adam Clayton Powell Jr. State Office Building’, ’Isabel Washington Powell’, ’Adam Powell’, ’Adam Clayton Powell (film)’, ’Giancarlo Esposito’].\n",
        "Thought: To find the documentary, I can search Adam Clayton Powell (film).\n",
        "Action: Search[Adam Clayton Powell (film)]\n",
        "Observation: Adam Clayton Powell is a 1989 American documentary film directed by Richard Kilberg. The film is about the rise and fall of influential African-American politician Adam Clayton Powell Jr.[3][4] It was later aired as part of the PBS series The American Experience.\n",
        "Thought: Adam Clayton Powell (film) is a documentary about an African-American politician, not Finnish rock groups. So the documentary about Finnish rock groups must instead be The Saimaa Gesture.\n",
        "Action: Finish[The Saimaa Gesture]\n",
        "\n",
        "Question: What profession does Nicholas Ray and Elia Kazan have in common?\n",
        "Thought: I need to search Nicholas Ray and Elia Kazan, find their professions, then find the profession they have in common.\n",
        "Action: Search[Nicholas Ray]\n",
        "Observation: Nicholas Ray (born Raymond Nicholas Kienzle Jr., August 7, 1911 - June 16, 1979) was an American film director, screenwriter, and actor best known for the 1955 film Rebel Without a Cause.\n",
        "Thought: Professions of Nicholas Ray are director, screenwriter, and actor. I need to search Elia Kazan next and find his professions.\n",
        "Action: Search[Elia Kazan]\n",
        "Observation: Elia Kazan was an American film and theatre director, producer, screenwriter and actor.\n",
        "Thought: Professions of Elia Kazan are director, producer, screenwriter, and actor. So profession Nicholas Ray and Elia Kazan have in common is director, screenwriter, and actor.\n",
        "Action: Finish[director, screenwriter, actor]\n",
        "\n",
        "Question: Which magazine was started first Arthur’s Magazine or First for Women?\n",
        "Thought: I need to search Arthur’s Magazine and First for Women, and find which was started first.\n",
        "Action: Search[Arthur’s Magazine]\n",
        "Observation: Arthur’s Magazine (1844-1846) was an American literary periodical published in Philadelphia in the 19th century.\n",
        "Thought: Arthur’s Magazine was started in 1844. I need to search First for Women next.\n",
        "Action: Search[First for Women]\n",
        "Observation: First for Women is a woman’s magazine published by Bauer Media Group in the USA.[1] The magazine was started in 1989.\n",
        "Thought: First for Women was started in 1989. 1844 (Arthur’s Magazine) < 1989 (First for Women), so Arthur’s Magazine was started first.\n",
        "Action: Finish[Arthur’s Magazine]\n",
        "\n",
        "Question: Were Pavel Urysohn and Leonid Levin known for the same type of work?\n",
        "Thought: I need to search Pavel Urysohn and Leonid Levin, find their types of work, then find if they are the same.\n",
        "Action: Search[Pavel Urysohn]\n",
        "Observation: Pavel Samuilovich Urysohn (February 3, 1898 - August 17, 1924) was a Soviet mathematician who is best known for his contributions in dimension theory.\n",
        "Thought: Pavel Urysohn is a mathematician. I need to search Leonid Levin next and find its type of work.\n",
        "Action: Search[Leonid Levin]\n",
        "Observation: Leonid Anatolievich Levin is a Soviet-American mathematician and computer scientist.\n",
        "Thought: Leonid Levin is a mathematician and computer scientist. So Pavel Urysohn and Leonid Levin have the same type of work.\n",
        "Action: Finish[yes]\n",
        "\n",
        "Question: {input}\n",
        "{agent_scratchpad}\n",
        "```"
      ],
      "metadata": {
        "id": "9OdRD2twno98"
      }
    },
    {
      "cell_type": "markdown",
      "source": [
        "Tal como se plantea en el paper de `ReAct`, vemos que el `prompt template` es un conjunto de ejemplos. Esto es conocido como **few-shots**. Los ejemplos que aquí aparecen son los entregados en el paper de ReAct para la base de datos *Hotpot QA*.\n",
        "\n",
        "Utilizando las mismas preguntas de antes, ejecutamos ahora el agente y rastreamos el paso a paso."
      ],
      "metadata": {
        "id": "Aiv6rNVnkszD"
      }
    },
    {
      "cell_type": "code",
      "source": [
        "question = \"Who was the head coach of the Chile national football team when it won the Copa América for the first time?\"\n",
        "react.run(question)"
      ],
      "metadata": {
        "colab": {
          "base_uri": "https://localhost:8080/",
          "height": 454
        },
        "id": "xXlCrYGwTBkJ",
        "outputId": "f834e508-2ec6-4cfa-ebad-8ec7224c9ad0"
      },
      "execution_count": null,
      "outputs": [
        {
          "output_type": "stream",
          "name": "stdout",
          "text": [
            "\n",
            "\n",
            "\u001b[1m> Entering new AgentExecutor chain...\u001b[0m\n",
            "\u001b[32;1m\u001b[1;3mThought: I need to search Chile national football team, find when it won the Copa América for the first time, then find the head coach at that time.\n",
            "Action: Search[Chile national football team]\u001b[0m\n",
            "Observation: \u001b[36;1m\u001b[1;3mThe China national football team (simplified Chinese: 中国国家足球队; traditional Chinese: 中國國家足球隊; pinyin: Zhōngguó guójiā zúqiú duì, recognised as China PR by FIFA) represents the People's Republic of China in international association football and is governed by the Chinese Football Association.\n",
            "China won the EAFF East Asian Cup in 2005 and 2010, was runner-up at the AFC Asian Cup in 1984 and 2004 and made its sole FIFA World Cup appearance in 2002, losing all matches without scoring a goal.\u001b[0m\n",
            "Thought:\u001b[32;1m\u001b[1;3m The paragraph does not mention when Chile won the Copa América for the first time. I need to search Copa América and find when Chile won it for the first time.\n",
            "Action: Search[Copa América]\u001b[0m\n",
            "Observation: \u001b[36;1m\u001b[1;3mCould not find [Copa América]. Similar: ['Copa América', '2021 Copa América', '2024 Copa América', 'Copa América Centenario', 'Copa América records and statistics', '2007 Copa América', '2019 Copa América', '2015 Copa América', '2021 Copa América final', 'Copa Libertadores']\u001b[0m\n",
            "Thought:\u001b[32;1m\u001b[1;3m To find when Chile won the Copa América for the first time, I can search 2015 Copa América.\n",
            "Action: Search[2015 Copa América]\u001b[0m\n",
            "Observation: \u001b[36;1m\u001b[1;3mThe 2015 Copa América was the 44th edition of the Copa América, the main international football tournament for national teams in South America, and took place in Chile between 11 June and 4 July 2015. The competition was organized by CONMEBOL, South America's football governing body.\n",
            "Twelve teams competed: the ten members of CONMEBOL and two guests from CONCACAF – Mexico and Jamaica, the latter of which competed in the Copa América for the first time.\n",
            "Uruguay were the defending champions, but were eliminated by the host nation Chile in the quarter-finals. Chile won their first title, defeating Argentina in the final on penalties after a goalless draw. As winners, they qualified for the 2017 FIFA Confederations Cup in Russia.\u001b[0m\n",
            "Thought:\u001b[32;1m\u001b[1;3m Chile won the Copa América for the first time in 2015. I need to search Chile national football team in 2015 and find the head coach.\n",
            "Action: Search[Chile national football team in 2015]\u001b[0m\n",
            "Observation: \u001b[36;1m\u001b[1;3mThe Chile national football team (Spanish: Selección de fútbol de Chile) represents Chile in men's international football competitions and is controlled by the Federación de Fútbol de Chile which was established in 1895. The team is commonly referred to as La Roja (lit. 'The Red One'). Chile has appeared in nine World Cup tournaments and were hosts of the 1962 FIFA World Cup where they finished in third place, the highest position the country has ever achieved in the World Cup.\n",
            "Chile won their first Copa América title on home soil at the 2015 Copa América, defeating Argentina in the final. They successfully defended their title in another final against Argentina won on penalties at Copa América Centenario the following year in the United States. Prior to this, Chile had been runners-up in the competition on four occasions. As a result of winning the 2015 Copa América, they qualified for the 2017 FIFA Confederations Cup, where they finished second, behind Germany, in their debut appearance.\u001b[0m\n",
            "Thought:\u001b[32;1m\u001b[1;3m The head coach of the Chile national football team when it won the Copa América for the first time is Jorge Sampaoli.\n",
            "Action: Finish[Jorge Sampaoli]\u001b[0m\n",
            "\n",
            "\u001b[1m> Finished chain.\u001b[0m\n"
          ]
        },
        {
          "output_type": "execute_result",
          "data": {
            "text/plain": [
              "'Jorge Sampaoli'"
            ],
            "application/vnd.google.colaboratory.intrinsic+json": {
              "type": "string"
            }
          },
          "metadata": {},
          "execution_count": 42
        }
      ]
    },
    {
      "cell_type": "code",
      "source": [
        "question = \"How old was the head coach of the Chile national football team when it won the Copa América for the first time?\"\n",
        "react.run(question)"
      ],
      "metadata": {
        "colab": {
          "base_uri": "https://localhost:8080/",
          "height": 454
        },
        "id": "TYpzo5jgyErs",
        "outputId": "42e1a596-1f21-44b5-d441-b5197d6496e0"
      },
      "execution_count": null,
      "outputs": [
        {
          "output_type": "stream",
          "name": "stdout",
          "text": [
            "\n",
            "\n",
            "\u001b[1m> Entering new AgentExecutor chain...\u001b[0m\n",
            "\u001b[32;1m\u001b[1;3mThought: I need to search Chile national football team, find the head coach when it won the Copa América for the first time, then find the age of the head coach.\n",
            "Action: Search[Chile national football team]\u001b[0m\n",
            "Observation: \u001b[36;1m\u001b[1;3mThe China national football team (simplified Chinese: 中国国家足球队; traditional Chinese: 中國國家足球隊; pinyin: Zhōngguó guójiā zúqiú duì, recognised as China PR by FIFA) represents the People's Republic of China in international association football and is governed by the Chinese Football Association.\n",
            "China won the EAFF East Asian Cup in 2005 and 2010, was runner-up at the AFC Asian Cup in 1984 and 2004 and made its sole FIFA World Cup appearance in 2002, losing all matches without scoring a goal.\u001b[0m\n",
            "Thought:\u001b[32;1m\u001b[1;3m The paragraph does not mention the head coach when Chile won the Copa América for the first time. I need to search Copa América and find the head coach.\n",
            "Action: Search[Copa América]\u001b[0m\n",
            "Observation: \u001b[36;1m\u001b[1;3mCould not find [Copa América]. Similar: ['Copa América', '2021 Copa América', '2024 Copa América', 'Copa América Centenario', 'Copa América records and statistics', '2007 Copa América', '2019 Copa América', '2015 Copa América', '2021 Copa América final', 'Copa Libertadores']\u001b[0m\n",
            "Thought:\u001b[32;1m\u001b[1;3m To find the head coach when Chile won the Copa América for the first time, I can search 2015 Copa América.\n",
            "Action: Search[2015 Copa América]\u001b[0m\n",
            "Observation: \u001b[36;1m\u001b[1;3mThe 2015 Copa América was the 44th edition of the Copa América, the main international football tournament for national teams in South America, and took place in Chile between 11 June and 4 July 2015. The competition was organized by CONMEBOL, South America's football governing body.\n",
            "Twelve teams competed: the ten members of CONMEBOL and two guests from CONCACAF – Mexico and Jamaica, the latter of which competed in the Copa América for the first time.\n",
            "Uruguay were the defending champions, but were eliminated by the host nation Chile in the quarter-finals. Chile won their first title, defeating Argentina in the final on penalties after a goalless draw. As winners, they qualified for the 2017 FIFA Confederations Cup in Russia.\u001b[0m\n",
            "Thought:\u001b[32;1m\u001b[1;3m The paragraph mentions the head coach of Chile when it won the Copa América for the first time is Jorge Sampaoli. I need to search Jorge Sampaoli and find his age.\n",
            "Action: Search[Jorge Sampaoli]\u001b[0m\n",
            "Observation: \u001b[36;1m\u001b[1;3mJorge Luis Sampaoli Moya (Spanish pronunciation: [ˈxoɾxe sampaˈoli]; born 13 March 1960) is an Argentine football coach who is the head coach of Campeonato Brasileiro Série A club Flamengo. Sampaoli started out as a youth player and eventually switched to management after a severe injury.Sampaoli started with an impressive coaching run at Coronel Bolognesi of Peru in 2004, and continued with brief but successful terms at O'Higgins of Chile and Emelec of Ecuador.\n",
            "Sampaoli earned praise as the head coach of Universidad de Chile, winning three league titles and the Copa Sudamericana championship. This success led him to coach the Chilean men's national team in 2012, replacing Claudio Borghi. He led the Chile national football team to their first Copa América title, after defeating Argentina in the final in the 2015 tournament in Chile. He is well known for his attacking tactics which are similar to those of Marcelo Bielsa, according to the press and fans alike.On 28 June 2016, Sampaoli signed a two-year contract with Sevilla. After spending only one year in Spain and  leading Sevilla to fourth spot in La Liga, and ensuring Champions League football the following season, Sampaoli left the club to coach the Argentina national team, where he left by mutual consent, after a disappointing run in the 2018 FIFA World Cup. He eventually agreed to coach Brazilian club Santos in 2019, staying one year and leading the club to the second position in the league. In March 2021, he returned to manage in European football when he was appointed at French side Marseille. In October 2022, he returned to manage Sevilla. On 21 March 2023, he was sacked by Sevilla and replaced by José Luis Mendilibar.\u001b[0m\n",
            "Thought:\u001b[32;1m\u001b[1;3m Jorge Sampaoli was born on 13 March 1960, so he was 55 years old when Chile won the Copa América for the first time.\n",
            "Action: Finish[55 years old]\u001b[0m\n",
            "\n",
            "\u001b[1m> Finished chain.\u001b[0m\n"
          ]
        },
        {
          "output_type": "execute_result",
          "data": {
            "text/plain": [
              "'55 years old'"
            ],
            "application/vnd.google.colaboratory.intrinsic+json": {
              "type": "string"
            }
          },
          "metadata": {},
          "execution_count": 47
        }
      ]
    },
    {
      "cell_type": "markdown",
      "source": [
        "Vemos varios aspectos en los ejercicios:\n",
        "1. Las respuestas son más concisas.\n",
        "2. Evita el *hallucination*.\n",
        "3. El agente es más flexible en la respuesta a resultados no esperados."
      ],
      "metadata": {
        "id": "W9RVVEH2pd0N"
      }
    },
    {
      "cell_type": "markdown",
      "source": [
        "##3. Agente ReAct Zero-Shot\n",
        "El problema del template anterior, es que cada llamada a la API (entre Reasoning y Act) es muy costosa, puesto que el `prompt` es muy largo. Una opción es utilizar una estrategia de zero-shot, es decir, sin ejemplos, y generar un `prompt` basado en la estrategia Plan-and-solve (ver este [paper](https://arxiv.org/pdf/2305.04091.pdf)).\n",
        "\n",
        "LangChain nos entrega un agente llamado `AgentType.ZERO_SHOT_REACT_DESCRIPTION`, cuyo `prompt_template` está basado en zero-shot, ReAct, y agrega la descripción de todas las `tools` disponibles.\n",
        "\n",
        "Vamos a generar nuevamente el agente que interactua con Wikipedia, pero esta vez mostraremos un ejemplo sencillo donde le entregamos una tercera herramienta que resta numeros para calcular la edad."
      ],
      "metadata": {
        "id": "ZJi3EKguDnYu"
      }
    },
    {
      "cell_type": "code",
      "source": [
        "# Esta función será utilizada para calcular la edad.\n",
        "# Notar que recibe un solo argumento.\n",
        "def substract(numbers)->int:\n",
        "  'Compute the subtraction between two numbers'\n",
        "  x = float(numbers.split(',')[0])\n",
        "  y = float(numbers.split(',')[1])\n",
        "  return x-y\n",
        "\n",
        "# Creamos nuevamente la lista de tools y entregamos una descripción\n",
        "# de la herramienta Substract para que el agente pueda identificar correctamente\n",
        "# cuándo necesita usarla y el formato requerido.\n",
        "tools = [\n",
        "    Tool(\n",
        "        name=\"Search\",\n",
        "        func=docstore.search,\n",
        "        description=\"useful for when you need to ask with search\",\n",
        "    ),\n",
        "    Tool(\n",
        "        name=\"Lookup\",\n",
        "        func=docstore.lookup,\n",
        "        description=\"useful for when you need to ask with lookup\",\n",
        "    ),\n",
        "    Tool.from_function(\n",
        "        name='Substract',\n",
        "        func=substract,\n",
        "        description=\"useful for when you need to compute age by year and the year of birthdate separated by comma. Ex: 2023,1988\",\n",
        "    )\n",
        "]\n",
        "\n",
        "# Finalmente creamos el ejecutor del agente\n",
        "react_zero_shot = initialize_agent(agent=AgentType.ZERO_SHOT_REACT_DESCRIPTION,\n",
        "                                   tools=tools,\n",
        "                                   llm=llm,\n",
        "                                   verbose=True)\n"
      ],
      "metadata": {
        "id": "txanzCBTW9_n"
      },
      "execution_count": null,
      "outputs": []
    },
    {
      "cell_type": "markdown",
      "source": [
        "Revisemos el `prompt_template` del agente:"
      ],
      "metadata": {
        "id": "N_Iu_8abtvW3"
      }
    },
    {
      "cell_type": "code",
      "source": [
        "react_zero_shot.agent.llm_chain.prompt.template"
      ],
      "metadata": {
        "colab": {
          "base_uri": "https://localhost:8080/",
          "height": 139
        },
        "id": "tvtOa4o9XErR",
        "outputId": "f3c46fd9-35a3-43c4-b1c7-ca8b0ff25947"
      },
      "execution_count": null,
      "outputs": [
        {
          "output_type": "execute_result",
          "data": {
            "text/plain": [
              "'Answer the following questions as best you can. You have access to the following tools:\\n\\nSearch: useful for when you need to ask with search\\nLookup: useful for when you need to ask with lookup\\nSubstract: useful for when you need to compute age by year and the year of birthdate separated by comma. Ex: 2023,1988\\n\\nUse the following format:\\n\\nQuestion: the input question you must answer\\nThought: you should always think about what to do\\nAction: the action to take, should be one of [Search, Lookup, Substract]\\nAction Input: the input to the action\\nObservation: the result of the action\\n... (this Thought/Action/Action Input/Observation can repeat N times)\\nThought: I now know the final answer\\nFinal Answer: the final answer to the original input question\\n\\nBegin!\\n\\nQuestion: {input}\\nThought:{agent_scratchpad}'"
            ],
            "application/vnd.google.colaboratory.intrinsic+json": {
              "type": "string"
            }
          },
          "metadata": {},
          "execution_count": 60
        }
      ]
    },
    {
      "cell_type": "markdown",
      "source": [
        "```\n",
        "Answer the following questions as best you can. You have access to the following tools:\n",
        "\n",
        "Search: useful for when you need to ask with search\n",
        "Lookup: useful for when you need to ask with lookup\n",
        "Substract: useful for when you need to compute age by year and the year of birthdate separated by comma. Ex: 2023,1988\n",
        "\n",
        "Use the following format:\n",
        "\n",
        "Question: the input question you must answer\n",
        "Thought: you should always think about what to do\n",
        "Action: the action to take, should be one of [Search, Lookup, Substract]\n",
        "Action Input: the input to the action\n",
        "Observation: the result of the action\n",
        "... (this Thought/Action/Action Input/Observation can repeat N times)\n",
        "Thought: I now know the final answer\n",
        "Final Answer: the final answer to the original input question\n",
        "\n",
        "Begin!\n",
        "\n",
        "Question: {input}\n",
        "Thought:{agent_scratchpad}\n",
        "```"
      ],
      "metadata": {
        "id": "KGB9Aq_krk14"
      }
    },
    {
      "cell_type": "markdown",
      "source": [
        "Vemos que el `prompt` es mucho más corto. Clarametne esto afectará las interacciones. Veamos a continuación:"
      ],
      "metadata": {
        "id": "Yk1_5h6-tzGI"
      }
    },
    {
      "cell_type": "code",
      "source": [
        "question = \"Who was the head coach of the Chile national football team when it won the Copa América for the first time?\"\n",
        "react_zero_shot.run(question)"
      ],
      "metadata": {
        "colab": {
          "base_uri": "https://localhost:8080/",
          "height": 263
        },
        "id": "w_yzTT5UYAKT",
        "outputId": "9859e439-ae9a-4148-bdeb-0486ce3da9ec"
      },
      "execution_count": null,
      "outputs": [
        {
          "output_type": "stream",
          "name": "stdout",
          "text": [
            "\n",
            "\n",
            "\u001b[1m> Entering new AgentExecutor chain...\u001b[0m\n",
            "\u001b[32;1m\u001b[1;3m I need to find out who was the head coach of the Chile national football team when it won the Copa América for the first time.\n",
            "Action: Search\n",
            "Action Input: \"head coach Chile national football team Copa América\"\u001b[0m\n",
            "Observation: \u001b[36;1m\u001b[1;3mThe Chile national football team (Spanish: Selección de fútbol de Chile) represents Chile in men's international football competitions and is controlled by the Federación de Fútbol de Chile which was established in 1895. The team is commonly referred to as La Roja (lit. 'The Red One'). Chile has appeared in nine World Cup tournaments and were hosts of the 1962 FIFA World Cup where they finished in third place, the highest position the country has ever achieved in the World Cup.\n",
            "Chile won their first Copa América title on home soil at the 2015 Copa América, defeating Argentina in the final. They successfully defended their title in another final against Argentina won on penalties at Copa América Centenario the following year in the United States. Prior to this, Chile had been runners-up in the competition on four occasions. As a result of winning the 2015 Copa América, they qualified for the 2017 FIFA Confederations Cup, where they finished second, behind Germany, in their debut appearance.\u001b[0m\n",
            "Thought:\u001b[32;1m\u001b[1;3m I now know the final answer\n",
            "Final Answer: Jorge Sampaoli was the head coach of the Chile national football team when it won the Copa América for the first time.\u001b[0m\n",
            "\n",
            "\u001b[1m> Finished chain.\u001b[0m\n"
          ]
        },
        {
          "output_type": "execute_result",
          "data": {
            "text/plain": [
              "'Jorge Sampaoli was the head coach of the Chile national football team when it won the Copa América for the first time.'"
            ],
            "application/vnd.google.colaboratory.intrinsic+json": {
              "type": "string"
            }
          },
          "metadata": {},
          "execution_count": 59
        }
      ]
    },
    {
      "cell_type": "code",
      "source": [
        "question = \"How old was the head coach of the Chile national football team when it won the Copa América for the first time?\"\n",
        "react_zero_shot.run(question)"
      ],
      "metadata": {
        "colab": {
          "base_uri": "https://localhost:8080/",
          "height": 888
        },
        "id": "93LQ-OnbXx2Z",
        "outputId": "f85bf327-8cee-409b-d991-5443c7d10f3d"
      },
      "execution_count": null,
      "outputs": [
        {
          "output_type": "stream",
          "name": "stdout",
          "text": [
            "\n",
            "\n",
            "\u001b[1m> Entering new AgentExecutor chain...\u001b[0m\n",
            "\u001b[32;1m\u001b[1;3m I need to find out the year the Chile national football team won the Copa América for the first time and the year of birth of the head coach.\n",
            "Action: Search\n",
            "Action Input: \"Chile national football team Copa América win\"\u001b[0m\n",
            "Observation: \u001b[36;1m\u001b[1;3mThe Chile national football team (Spanish: Selección de fútbol de Chile) represents Chile in men's international football competitions and is controlled by the Federación de Fútbol de Chile which was established in 1895. The team is commonly referred to as La Roja (lit. 'The Red One'). Chile has appeared in nine World Cup tournaments and were hosts of the 1962 FIFA World Cup where they finished in third place, the highest position the country has ever achieved in the World Cup.\n",
            "Chile won their first Copa América title on home soil at the 2015 Copa América, defeating Argentina in the final. They successfully defended their title in another final against Argentina won on penalties at Copa América Centenario the following year in the United States. Prior to this, Chile had been runners-up in the competition on four occasions. As a result of winning the 2015 Copa América, they qualified for the 2017 FIFA Confederations Cup, where they finished second, behind Germany, in their debut appearance.\u001b[0m\n",
            "Thought:\u001b[32;1m\u001b[1;3m I now need to find out the year of birth of the head coach.\n",
            "Action: Lookup\n",
            "Action Input: \"Jorge Sampaoli head coach Chile national football team\"\u001b[0m\n",
            "Observation: \u001b[33;1m\u001b[1;3mNo Results\u001b[0m\n",
            "Thought:\u001b[32;1m\u001b[1;3m I need to find out the name of the head coach.\n",
            "Action: Search\n",
            "Action Input: \"Chile national football team Copa América win 2015\"\u001b[0m\n",
            "Observation: \u001b[36;1m\u001b[1;3mThe 2015 Copa América was the 44th edition of the Copa América, the main international football tournament for national teams in South America, and took place in Chile between 11 June and 4 July 2015. The competition was organized by CONMEBOL, South America's football governing body.\n",
            "Twelve teams competed: the ten members of CONMEBOL and two guests from CONCACAF – Mexico and Jamaica, the latter of which competed in the Copa América for the first time.\n",
            "Uruguay were the defending champions, but were eliminated by the host nation Chile in the quarter-finals. Chile won their first title, defeating Argentina in the final on penalties after a goalless draw. As winners, they qualified for the 2017 FIFA Confederations Cup in Russia.\u001b[0m\n",
            "Thought:\u001b[32;1m\u001b[1;3m I now need to find out the year of birth of the head coach.\n",
            "Action: Lookup\n",
            "Action Input: \"Jorge Sampaoli head coach Chile national football team\"\u001b[0m\n",
            "Observation: \u001b[33;1m\u001b[1;3mNo Results\u001b[0m\n",
            "Thought:\u001b[32;1m\u001b[1;3m I need to find out the name of the head coach.\n",
            "Action: Search\n",
            "Action Input: \"Chile national football team Copa América win 2015 head coach\"\u001b[0m\n",
            "Observation: \u001b[36;1m\u001b[1;3mThe Copa América Centenario (Portuguese: Copa América Centenário, French: Coupe Amerique Centennaire, English: Centennial Cup America; literally Centennial America Cup) was an international men's association football tournament that was hosted by the United States in 2016. The competition was a celebration of the centenary of CONMEBOL and the Copa América, and was the first Copa América hosted outside South America.The tournament was a commemorative version of Copa América (not the 45th edition). It was held as part of an agreement between CONMEBOL (the South American football confederation) and CONCACAF (the football confederation for North and Central America and the Caribbean) as a special edition between the usual four-year cycle, and featured an expanded field of sixteen teams (an increase from the usual twelve), with all ten teams from CONMEBOL and six teams from CONCACAF. Despite the tournament being an official iteration of the Copa América, the winner would not receive an invitation to the 2017 FIFA Confederations Cup due to the commemorative nature of the tournament, although eventual winners Chile had already qualified through their 2015 victory.\n",
            "Chile became the fourth nation to win at least two consecutive titles in CONMEBOL tournaments, after Uruguay, Argentina and Brazil. Argentina, meanwhile, lost their third consecutive final in a major tournament, following losses to Germany at the 2014 World Cup and Chile at the 2015 Copa América. \u001b[0m\n",
            "Thought:\u001b[32;1m\u001b[1;3m I now need to find out the year of birth of the head coach.\n",
            "Action: Lookup\n",
            "Action Input: \"Jorge Sampaoli head coach Chile national football team\"\u001b[0m\n",
            "Observation: \u001b[33;1m\u001b[1;3mNo Results\u001b[0m\n",
            "Thought:\u001b[32;1m\u001b[1;3m I need to find out the name of the head coach.\n",
            "Action: Search\n",
            "Action Input: \"Jorge Sampaoli head coach Chile national football team\"\u001b[0m\n",
            "Observation: \u001b[36;1m\u001b[1;3mJorge Luis Sampaoli Moya (Spanish pronunciation: [ˈxoɾxe sampaˈoli]; born 13 March 1960) is an Argentine football coach who is the head coach of Campeonato Brasileiro Série A club Flamengo. Sampaoli started out as a youth player and eventually switched to management after a severe injury.Sampaoli started with an impressive coaching run at Coronel Bolognesi of Peru in 2004, and continued with brief but successful terms at O'Higgins of Chile and Emelec of Ecuador.\n",
            "Sampaoli earned praise as the head coach of Universidad de Chile, winning three league titles and the Copa Sudamericana championship. This success led him to coach the Chilean men's national team in 2012, replacing Claudio Borghi. He led the Chile national football team to their first Copa América title, after defeating Argentina in the final in the 2015 tournament in Chile. He is well known for his attacking tactics which are similar to those of Marcelo Bielsa, according to the press and fans alike.On 28 June 2016, Sampaoli signed a two-year contract with Sevilla. After spending only one year in Spain and  leading Sevilla to fourth spot in La Liga, and ensuring Champions League football the following season, Sampaoli left the club to coach the Argentina national team, where he left by mutual consent, after a disappointing run in the 2018 FIFA World Cup. He eventually agreed to coach Brazilian club Santos in 2019, staying one year and leading the club to the second position in the league. In March 2021, he returned to manage in European football when he was appointed at French side Marseille. In October 2022, he returned to manage Sevilla. On 21 March 2023, he was sacked by Sevilla and replaced by José Luis Mendilibar.\u001b[0m\n",
            "Thought:\u001b[32;1m\u001b[1;3m I now need to find out the year of birth of the head coach.\n",
            "Action: Lookup\n",
            "Action Input: \"Jorge Sampaoli head coach Chile national football team\"\u001b[0m\n",
            "Observation: \u001b[33;1m\u001b[1;3mNo Results\u001b[0m\n",
            "Thought:\u001b[32;1m\u001b[1;3m I need to find out the year of birth of the head coach.\n",
            "Action: Substract\n",
            "Action Input: 1960,2015\u001b[0m\n",
            "Observation: \u001b[38;5;200m\u001b[1;3m-55.0\u001b[0m\n",
            "Thought:\u001b[32;1m\u001b[1;3m I now know the final answer.\n",
            "Final Answer: The head coach of the Chile national football team when it won the Copa América for the first time was 55 years old.\u001b[0m\n",
            "\n",
            "\u001b[1m> Finished chain.\u001b[0m\n"
          ]
        },
        {
          "output_type": "execute_result",
          "data": {
            "text/plain": [
              "'The head coach of the Chile national football team when it won the Copa América for the first time was 55 years old.'"
            ],
            "application/vnd.google.colaboratory.intrinsic+json": {
              "type": "string"
            }
          },
          "metadata": {},
          "execution_count": 58
        }
      ]
    },
    {
      "cell_type": "markdown",
      "source": [
        "Como era de esperar, el agente lucha un poco para obtener la respuesta final. Esto podría ser mejorado agregando algunos ejemplos adicionales. Sin embargo, esto aumentaría el costo de cada llamada."
      ],
      "metadata": {
        "id": "SRV7CYMwt5uJ"
      }
    },
    {
      "cell_type": "markdown",
      "source": [
        "##4. Agente Pandas Dataframe\n",
        "Finalmente mostraremos un ejemplo de un agente un poco más complejo. Usaremos el agente `create_pandas_dataframe_agent`, el cual crea un ejecutor con el agente `ZERO_SHOT_REACT_DESCRIPTION`, un dataframe, y con una herramienta de Python Shell. Es decir, un agente que usa python para ejecutar consultas del dataframe.\n",
        "\n",
        "Más detalle de este agente [aquí](https://python.langchain.com/docs/integrations/toolkits/pandas)."
      ],
      "metadata": {
        "id": "f7jrhVX8Zw3K"
      }
    },
    {
      "cell_type": "code",
      "source": [
        "# Importamos pandas.\n",
        "import pandas as pd\n",
        "\n",
        "# Importamos la clase ChatOpenAI, pues usaremos gpt-4\n",
        "from langchain.chat_models import ChatOpenAI\n",
        "\n",
        "# Importamos el constructor del Agente Pandas Dataframe.\n",
        "from langchain.agents import create_pandas_dataframe_agent"
      ],
      "metadata": {
        "id": "FbG305LsZwe7"
      },
      "execution_count": null,
      "outputs": []
    },
    {
      "cell_type": "markdown",
      "source": [
        "Vamos a cargar la base, creamos el modelo LLM, e instanciamos el agente:"
      ],
      "metadata": {
        "id": "-FUTS1PtwKw2"
      }
    },
    {
      "cell_type": "code",
      "source": [
        "df = pd.read_csv('data-2.csv')\n",
        "chat = ChatOpenAI(model_name='gpt-4',\n",
        "                  temperature = 0.0)\n",
        "agent_data_analyst = create_pandas_dataframe_agent(chat, df, verbose = True)"
      ],
      "metadata": {
        "id": "crW9RrzRcELP"
      },
      "execution_count": null,
      "outputs": []
    },
    {
      "cell_type": "markdown",
      "source": [
        "Revisemos el `prompt_template`."
      ],
      "metadata": {
        "id": "L6J-lWjdwRCP"
      }
    },
    {
      "cell_type": "code",
      "source": [
        "agent_data_analyst.agent.llm_chain.prompt.template"
      ],
      "metadata": {
        "colab": {
          "base_uri": "https://localhost:8080/",
          "height": 139
        },
        "id": "wk0Gitvwcgca",
        "outputId": "49ce3755-c41f-4496-d8f3-0719d18ba710"
      },
      "execution_count": null,
      "outputs": [
        {
          "output_type": "execute_result",
          "data": {
            "text/plain": [
              "'\\nYou are working with a pandas dataframe in Python. The name of the dataframe is `df`.\\nYou should use the tools below to answer the question posed of you:\\n\\npython_repl_ast: A Python shell. Use this to execute python commands. Input should be a valid python command. When using this tool, sometimes output is abbreviated - make sure it does not look abbreviated before using it in your answer.\\n\\nUse the following format:\\n\\nQuestion: the input question you must answer\\nThought: you should always think about what to do\\nAction: the action to take, should be one of [python_repl_ast]\\nAction Input: the input to the action\\nObservation: the result of the action\\n... (this Thought/Action/Action Input/Observation can repeat N times)\\nThought: I now know the final answer\\nFinal Answer: the final answer to the original input question\\n\\n\\nThis is the result of `print(df.head())`:\\n{df_head}\\n\\nBegin!\\nQuestion: {input}\\n{agent_scratchpad}'"
            ],
            "application/vnd.google.colaboratory.intrinsic+json": {
              "type": "string"
            }
          },
          "metadata": {},
          "execution_count": 72
        }
      ]
    },
    {
      "cell_type": "markdown",
      "source": [
        "```\n",
        "You are working with a pandas dataframe in Python. The name of the dataframe is `df`.\n",
        "You should use the tools below to answer the question posed of you:\n",
        "\n",
        "python_repl_ast: A Python shell. Use this to execute python commands. Input should be a valid python command. When using this tool, sometimes output is abbreviated - make sure it does not look abbreviated before using it in your answer.\n",
        "\n",
        "Use the following format:\n",
        "\n",
        "Question: the input question you must answer\n",
        "Thought: you should always think about what to do\n",
        "Action: the action to take, should be one of [python_repl_ast]\n",
        "Action Input: the input to the action\n",
        "Observation: the result of the action\n",
        "... (this Thought/Action/Action Input/Observation can repeat N times)\n",
        "Thought: I now know the final answer\n",
        "Final Answer: the final answer to the original input question\n",
        "\n",
        "This is the result of `print(df.head())`:\n",
        "{df_head}\n",
        "\n",
        "Begin!\n",
        "Question: {input}\n",
        "{agent_scratchpad}\n",
        "```"
      ],
      "metadata": {
        "id": "9gjK36kkcqgc"
      }
    },
    {
      "cell_type": "markdown",
      "source": [
        "Y finalmente le haremos consultas sobre la base que le acabamos de entregar."
      ],
      "metadata": {
        "id": "u9RJZdRPwU1K"
      }
    },
    {
      "cell_type": "code",
      "source": [
        "answer = agent_data_analyst.run('¿Cuáles son los clientes top de cada país?')\n",
        "print(answer)"
      ],
      "metadata": {
        "colab": {
          "base_uri": "https://localhost:8080/"
        },
        "id": "lf5mrr_cco4y",
        "outputId": "22ed98a7-e750-4978-9f63-6f0e6fe03b9e"
      },
      "execution_count": null,
      "outputs": [
        {
          "output_type": "stream",
          "name": "stdout",
          "text": [
            "\n",
            "\n",
            "\u001b[1m> Entering new AgentExecutor chain...\u001b[0m\n",
            "\u001b[32;1m\u001b[1;3mThought: Para responder a esta pregunta, necesitamos agrupar los datos por país y cliente, y luego sumar la cantidad de productos que cada cliente ha comprado. Luego, para cada país, seleccionamos el cliente que ha comprado la mayor cantidad de productos.\n",
            "\n",
            "Action: python_repl_ast\n",
            "Action Input: df.groupby(['Country', 'CustomerID'])['Quantity'].sum()\u001b[0m\n",
            "Observation: \u001b[36;1m\u001b[1;3mCountry         CustomerID\n",
            "Australia       12386.0         354\n",
            "                12388.0        1462\n",
            "                12393.0         816\n",
            "                12415.0       77242\n",
            "                12422.0         195\n",
            "                              ...  \n",
            "United Kingdom  18287.0        1586\n",
            "Unspecified     12363.0         408\n",
            "                12743.0         319\n",
            "                14265.0         330\n",
            "                16320.0         732\n",
            "Name: Quantity, Length: 4380, dtype: int64\u001b[0m\n",
            "Thought:\u001b[32;1m\u001b[1;3mAhora tenemos la cantidad total de productos comprados por cada cliente en cada país. Ahora necesitamos encontrar el cliente que ha comprado la mayor cantidad de productos en cada país.\n",
            "\n",
            "Action: python_repl_ast\n",
            "Action Input: df.groupby(['Country', 'CustomerID'])['Quantity'].sum().groupby('Country').idxmax()\u001b[0m\n",
            "Observation: \u001b[36;1m\u001b[1;3mCountry\n",
            "Australia                          (Australia, 12415.0)\n",
            "Austria                              (Austria, 12360.0)\n",
            "Bahrain                              (Bahrain, 12355.0)\n",
            "Belgium                              (Belgium, 12362.0)\n",
            "Brazil                                (Brazil, 12769.0)\n",
            "Canada                                (Canada, 17444.0)\n",
            "Channel Islands              (Channel Islands, 14936.0)\n",
            "Cyprus                                (Cyprus, 12370.0)\n",
            "Czech Republic                (Czech Republic, 12781.0)\n",
            "Denmark                              (Denmark, 12435.0)\n",
            "EIRE                                    (EIRE, 14911.0)\n",
            "European Community        (European Community, 15108.0)\n",
            "Finland                              (Finland, 12428.0)\n",
            "France                                (France, 12678.0)\n",
            "Germany                              (Germany, 12471.0)\n",
            "Greece                                (Greece, 14439.0)\n",
            "Iceland                              (Iceland, 12347.0)\n",
            "Israel                                (Israel, 12688.0)\n",
            "Italy                                  (Italy, 12594.0)\n",
            "Japan                                  (Japan, 12753.0)\n",
            "Lebanon                              (Lebanon, 12764.0)\n",
            "Lithuania                          (Lithuania, 15332.0)\n",
            "Malta                                  (Malta, 17828.0)\n",
            "Netherlands                      (Netherlands, 14646.0)\n",
            "Norway                                (Norway, 12433.0)\n",
            "Poland                                (Poland, 12779.0)\n",
            "Portugal                            (Portugal, 12766.0)\n",
            "RSA                                      (RSA, 12446.0)\n",
            "Saudi Arabia                    (Saudi Arabia, 12565.0)\n",
            "Singapore                          (Singapore, 12744.0)\n",
            "Spain                                  (Spain, 12540.0)\n",
            "Sweden                                (Sweden, 17404.0)\n",
            "Switzerland                      (Switzerland, 12451.0)\n",
            "USA                                      (USA, 12646.0)\n",
            "United Arab Emirates    (United Arab Emirates, 17829.0)\n",
            "United Kingdom                (United Kingdom, 17450.0)\n",
            "Unspecified                      (Unspecified, 16320.0)\n",
            "Name: Quantity, dtype: object\u001b[0m\n",
            "Thought:\u001b[32;1m\u001b[1;3mAhora tengo una lista de los clientes que han comprado la mayor cantidad de productos en cada país. Sin embargo, esta lista solo muestra los ID de los clientes, no sus nombres. Como no tengo información adicional sobre los clientes en este conjunto de datos, no puedo proporcionar los nombres de los clientes. Pero puedo proporcionar sus ID.\n",
            "Final Answer: Los clientes que han comprado la mayor cantidad de productos en cada país son los siguientes (mostrados como (País, ID del cliente)): \n",
            "\n",
            "Australia: 12415.0\n",
            "Austria: 12360.0\n",
            "Bahrain: 12355.0\n",
            "Belgium: 12362.0\n",
            "Brazil: 12769.0\n",
            "Canada: 17444.0\n",
            "Channel Islands: 14936.0\n",
            "Cyprus: 12370.0\n",
            "Czech Republic: 12781.0\n",
            "Denmark: 12435.0\n",
            "EIRE: 14911.0\n",
            "European Community: 15108.0\n",
            "Finland: 12428.0\n",
            "France: 12678.0\n",
            "Germany: 12471.0\n",
            "Greece: 14439.0\n",
            "Iceland: 12347.0\n",
            "Israel: 12688.0\n",
            "Italy: 12594.0\n",
            "Japan: 12753.0\n",
            "Lebanon: 12764.0\n",
            "Lithuania: 15332.0\n",
            "Malta: 17828.0\n",
            "Netherlands: 14646.0\n",
            "Norway: 12433.0\n",
            "Poland: 12779.0\n",
            "Portugal: 12766.0\n",
            "RSA: 12446.0\n",
            "Saudi Arabia: 12565.0\n",
            "Singapore: 12744.0\n",
            "Spain: 12540.0\n",
            "Sweden: 17404.0\n",
            "Switzerland: 12451.0\n",
            "USA: 12646.0\n",
            "United Arab Emirates: 17829.0\n",
            "United Kingdom: 17450.0\n",
            "Unspecified: 16320.0\u001b[0m\n",
            "\n",
            "\u001b[1m> Finished chain.\u001b[0m\n",
            "Los clientes que han comprado la mayor cantidad de productos en cada país son los siguientes (mostrados como (País, ID del cliente)): \n",
            "\n",
            "Australia: 12415.0\n",
            "Austria: 12360.0\n",
            "Bahrain: 12355.0\n",
            "Belgium: 12362.0\n",
            "Brazil: 12769.0\n",
            "Canada: 17444.0\n",
            "Channel Islands: 14936.0\n",
            "Cyprus: 12370.0\n",
            "Czech Republic: 12781.0\n",
            "Denmark: 12435.0\n",
            "EIRE: 14911.0\n",
            "European Community: 15108.0\n",
            "Finland: 12428.0\n",
            "France: 12678.0\n",
            "Germany: 12471.0\n",
            "Greece: 14439.0\n",
            "Iceland: 12347.0\n",
            "Israel: 12688.0\n",
            "Italy: 12594.0\n",
            "Japan: 12753.0\n",
            "Lebanon: 12764.0\n",
            "Lithuania: 15332.0\n",
            "Malta: 17828.0\n",
            "Netherlands: 14646.0\n",
            "Norway: 12433.0\n",
            "Poland: 12779.0\n",
            "Portugal: 12766.0\n",
            "RSA: 12446.0\n",
            "Saudi Arabia: 12565.0\n",
            "Singapore: 12744.0\n",
            "Spain: 12540.0\n",
            "Sweden: 17404.0\n",
            "Switzerland: 12451.0\n",
            "USA: 12646.0\n",
            "United Arab Emirates: 17829.0\n",
            "United Kingdom: 17450.0\n",
            "Unspecified: 16320.0\n"
          ]
        }
      ]
    },
    {
      "cell_type": "code",
      "source": [
        "answer = agent_data_analyst.run('Entrégame el producto favorito del mejor comprador del país que más compró en el mes con más compras')\n",
        "print(answer)"
      ],
      "metadata": {
        "colab": {
          "base_uri": "https://localhost:8080/"
        },
        "id": "CR-Ih-YDeqwK",
        "outputId": "ccd0225d-417d-446c-c48f-b5c1289548a9"
      },
      "execution_count": null,
      "outputs": [
        {
          "output_type": "stream",
          "name": "stdout",
          "text": [
            "\n",
            "\n",
            "\u001b[1m> Entering new AgentExecutor chain...\u001b[0m\n",
            "\u001b[32;1m\u001b[1;3mThought: The question is asking for the favorite product of the best buyer from the country that bought the most in the month with the most purchases. To answer this question, we need to perform several steps:\n",
            "\n",
            "1. Identify the month with the most purchases.\n",
            "2. Identify the country that bought the most in that month.\n",
            "3. Identify the best buyer from that country in that month.\n",
            "4. Identify the favorite product of that buyer.\n",
            "\n",
            "Let's start with the first step: identifying the month with the most purchases. To do this, we need to convert the 'InvoiceDate' column to datetime format, extract the month, and then count the number of purchases per month.\n",
            "\n",
            "Action: python_repl_ast\n",
            "Action Input: \n",
            "```python\n",
            "df['InvoiceDate'] = pd.to_datetime(df['InvoiceDate'])\n",
            "df['Month'] = df['InvoiceDate'].dt.month\n",
            "df['Month'].value_counts().idxmax()\n",
            "```\u001b[0m\n",
            "Observation: \u001b[36;1m\u001b[1;3mNameError: name 'pd' is not defined\u001b[0m\n",
            "Thought:\u001b[32;1m\u001b[1;3mI forgot to import the pandas library. I need to import it before I can use it.\n",
            "Action: python_repl_ast\n",
            "Action Input: \n",
            "```python\n",
            "import pandas as pd\n",
            "df['InvoiceDate'] = pd.to_datetime(df['InvoiceDate'])\n",
            "df['Month'] = df['InvoiceDate'].dt.month\n",
            "df['Month'].value_counts().idxmax()\n",
            "```\u001b[0m\n",
            "Observation: \u001b[36;1m\u001b[1;3m11\u001b[0m\n",
            "Thought:\u001b[32;1m\u001b[1;3mThe month with the most purchases is November (month 11). Now, let's identify the country that bought the most in November. To do this, we need to filter the dataframe for November and then count the number of purchases per country.\n",
            "\n",
            "Action: python_repl_ast\n",
            "Action Input: \n",
            "```python\n",
            "df_november = df[df['Month'] == 11]\n",
            "df_november['Country'].value_counts().idxmax()\n",
            "```\u001b[0m\n",
            "Observation: \u001b[36;1m\u001b[1;3mUnited Kingdom\u001b[0m\n",
            "Thought:\u001b[32;1m\u001b[1;3mThe country that bought the most in November is the United Kingdom. Now, let's identify the best buyer from the United Kingdom in November. To do this, we need to filter the dataframe for the United Kingdom and then count the number of purchases per customer.\n",
            "\n",
            "Action: python_repl_ast\n",
            "Action Input: \n",
            "```python\n",
            "df_uk_november = df_november[df_november['Country'] == 'United Kingdom']\n",
            "df_uk_november['CustomerID'].value_counts().idxmax()\n",
            "```\u001b[0m\n",
            "Observation: \u001b[36;1m\u001b[1;3m14096.0\u001b[0m\n",
            "Thought:\u001b[32;1m\u001b[1;3mThe best buyer from the United Kingdom in November is the customer with the ID 14096.0. Now, let's identify the favorite product of this buyer. To do this, we need to filter the dataframe for this customer and then count the number of purchases per product.\n",
            "\n",
            "Action: python_repl_ast\n",
            "Action Input: \n",
            "```python\n",
            "df_customer = df_uk_november[df_uk_november['CustomerID'] == 14096.0]\n",
            "df_customer['Description'].value_counts().idxmax()\n",
            "```\u001b[0m\n",
            "Observation: \u001b[36;1m\u001b[1;3mSET OF 3 WOODEN HEART DECORATIONS\u001b[0m\n",
            "Thought:\u001b[32;1m\u001b[1;3mI now know the final answer\n",
            "Final Answer: The favorite product of the best buyer from the country that bought the most in the month with the most purchases is the \"SET OF 3 WOODEN HEART DECORATIONS\".\u001b[0m\n",
            "\n",
            "\u001b[1m> Finished chain.\u001b[0m\n",
            "The favorite product of the best buyer from the country that bought the most in the month with the most purchases is the \"SET OF 3 WOODEN HEART DECORATIONS\".\n"
          ]
        }
      ]
    },
    {
      "cell_type": "markdown",
      "source": [
        "---\n",
        "Síguenos en nuestras redes:\n",
        "- TikTok: https://www.tiktok.com/@evoacdm\n",
        "- Instagram: https://www.instagram.com/evoacdm/\n",
        "- LinkedIn: https://www.linkedin.com/company/evoacmd/"
      ],
      "metadata": {
        "id": "rqTpDeBZwiSg"
      }
    }
  ]
}